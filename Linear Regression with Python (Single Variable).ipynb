{
 "cells": [
  {
   "cell_type": "code",
   "execution_count": null,
   "id": "a8bf135f",
   "metadata": {},
   "outputs": [],
   "source": [
    "import pandas as pd \n",
    "from matplotlib import pyplot as plt "
   ]
  },
  {
   "cell_type": "code",
   "execution_count": null,
   "id": "0cf2bc15",
   "metadata": {},
   "outputs": [],
   "source": [
    "df = pd.read_csv(\"nasdaq100.csv\", sep=';')"
   ]
  },
  {
   "cell_type": "code",
   "execution_count": null,
   "id": "46147c9d",
   "metadata": {},
   "outputs": [],
   "source": [
    "df.head()"
   ]
  },
  {
   "cell_type": "code",
   "execution_count": null,
   "id": "3c778b88",
   "metadata": {},
   "outputs": [],
   "source": [
    "df.isnull().sum()"
   ]
  },
  {
   "cell_type": "code",
   "execution_count": null,
   "id": "20ce33fd",
   "metadata": {},
   "outputs": [],
   "source": [
    "#df.drop('Date', axis=1)\n",
    "df = df.drop(columns = ['Date'])"
   ]
  },
  {
   "cell_type": "code",
   "execution_count": null,
   "id": "00a96394",
   "metadata": {},
   "outputs": [],
   "source": [
    "df.head()"
   ]
  },
  {
   "cell_type": "code",
   "execution_count": null,
   "id": "658021e3",
   "metadata": {},
   "outputs": [],
   "source": [
    "plt.scatter(df['Starting (USD)'] , df['Ending (USD)'])\n",
    "plt.xlabel('Starting (USD)')\n",
    "plt.ylabel('Ending (USD)')\n",
    "plt.title('NASDAQ100 Stock Prices')"
   ]
  },
  {
   "cell_type": "code",
   "execution_count": null,
   "id": "a1b46269",
   "metadata": {},
   "outputs": [],
   "source": [
    "x = df.drop('Ending (USD)', axis=1)"
   ]
  },
  {
   "cell_type": "code",
   "execution_count": null,
   "id": "cd2d503f",
   "metadata": {},
   "outputs": [],
   "source": [
    "x.head()"
   ]
  },
  {
   "cell_type": "code",
   "execution_count": null,
   "id": "9e490239",
   "metadata": {},
   "outputs": [],
   "source": [
    "y = df[['Ending (USD)']]\n",
    "y.head()"
   ]
  },
  {
   "cell_type": "markdown",
   "id": "b04d8125",
   "metadata": {},
   "source": [
    "# Linear Regression"
   ]
  },
  {
   "cell_type": "code",
   "execution_count": null,
   "id": "4570c445",
   "metadata": {},
   "outputs": [],
   "source": [
    "from sklearn.linear_model import LinearRegression"
   ]
  },
  {
   "cell_type": "code",
   "execution_count": null,
   "id": "6ea656dc",
   "metadata": {},
   "outputs": [],
   "source": [
    "reg = LinearRegression()"
   ]
  },
  {
   "cell_type": "code",
   "execution_count": null,
   "id": "144b8217",
   "metadata": {},
   "outputs": [],
   "source": [
    "x.mean()"
   ]
  },
  {
   "cell_type": "code",
   "execution_count": null,
   "id": "b41ab34c",
   "metadata": {},
   "outputs": [],
   "source": [
    "y.mean()"
   ]
  },
  {
   "cell_type": "code",
   "execution_count": null,
   "id": "c6d1015b",
   "metadata": {},
   "outputs": [],
   "source": [
    "plt.scatter(x.mean() , y.mean(), color='red')\n",
    "plt.scatter(df['Starting (USD)'] , df['Ending (USD)'])\n",
    "plt.xlabel('Starting (USD)')\n",
    "plt.ylabel('Ending (USD)')\n",
    "plt.title('NASDAQ100 Stock Prices')"
   ]
  },
  {
   "cell_type": "code",
   "execution_count": null,
   "id": "57bc8e23",
   "metadata": {},
   "outputs": [],
   "source": [
    "reg.fit(x, y) #train the ml model"
   ]
  },
  {
   "cell_type": "code",
   "execution_count": null,
   "id": "b02bd09f",
   "metadata": {},
   "outputs": [],
   "source": [
    "m = reg.coef_\n",
    "m"
   ]
  },
  {
   "cell_type": "code",
   "execution_count": null,
   "id": "433be479",
   "metadata": {},
   "outputs": [],
   "source": [
    "c = reg.intercept_\n",
    "c"
   ]
  },
  {
   "cell_type": "code",
   "execution_count": null,
   "id": "3ef77276",
   "metadata": {},
   "outputs": [],
   "source": [
    "# y = mx + c"
   ]
  },
  {
   "cell_type": "code",
   "execution_count": null,
   "id": "56fb1f92",
   "metadata": {},
   "outputs": [],
   "source": [
    "m*16700 + c"
   ]
  },
  {
   "cell_type": "code",
   "execution_count": null,
   "id": "4fc26b21",
   "metadata": {},
   "outputs": [],
   "source": [
    "reg.predict([[16700]])"
   ]
  },
  {
   "cell_type": "code",
   "execution_count": null,
   "id": "27e484b6",
   "metadata": {},
   "outputs": [],
   "source": [
    "df['Predicted_y'] = reg.predict(x)\n",
    "df.head()"
   ]
  },
  {
   "cell_type": "code",
   "execution_count": null,
   "id": "98a455c2",
   "metadata": {},
   "outputs": [],
   "source": [
    "#plt.plot(x, df['Predicted_y'])\n",
    "plt.plot(x, reg.predict(x))\n",
    "plt.scatter(x.mean() , y.mean(), color='red')\n",
    "plt.scatter(df['Starting (USD)'] , df['Ending (USD)'])\n",
    "plt.xlabel('Starting (USD)')\n",
    "plt.ylabel('Ending (USD)')\n",
    "plt.title('NASDAQ100 Stock Prices')"
   ]
  },
  {
   "cell_type": "code",
   "execution_count": null,
   "id": "f57d4d8f",
   "metadata": {},
   "outputs": [],
   "source": [
    "reg.predict([[16600]])"
   ]
  },
  {
   "cell_type": "code",
   "execution_count": null,
   "id": "9bd6ba1d",
   "metadata": {},
   "outputs": [],
   "source": [
    "df.head()"
   ]
  },
  {
   "cell_type": "markdown",
   "id": "c4d1930d",
   "metadata": {},
   "source": [
    "# Lose and Cost Function"
   ]
  },
  {
   "cell_type": "code",
   "execution_count": null,
   "id": "ed571581",
   "metadata": {},
   "outputs": [],
   "source": [
    "df['lose'] = df['Ending (USD)'] - df['Predicted_y']"
   ]
  },
  {
   "cell_type": "code",
   "execution_count": null,
   "id": "95cf493c",
   "metadata": {},
   "outputs": [],
   "source": [
    "df.head()"
   ]
  },
  {
   "cell_type": "code",
   "execution_count": null,
   "id": "3552daca",
   "metadata": {},
   "outputs": [],
   "source": [
    "#MSE and mae\n",
    "from sklearn.metrics import mean_squared_error, mean_absolute_error"
   ]
  },
  {
   "cell_type": "code",
   "execution_count": null,
   "id": "72673cd2",
   "metadata": {},
   "outputs": [],
   "source": [
    "mse = mean_squared_error(df['Ending (USD)'], df['Predicted_y'])\n",
    "mse"
   ]
  },
  {
   "cell_type": "code",
   "execution_count": null,
   "id": "a4912c82",
   "metadata": {},
   "outputs": [],
   "source": [
    "mae = mean_absolute_error(df['Ending (USD)'], df['Predicted_y'])\n",
    "mae"
   ]
  },
  {
   "cell_type": "code",
   "execution_count": null,
   "id": "c58b0c1c",
   "metadata": {},
   "outputs": [],
   "source": [
    "sum(abs(df['lose'])) / len(x)"
   ]
  },
  {
   "cell_type": "code",
   "execution_count": null,
   "id": "7a3ae7b3",
   "metadata": {},
   "outputs": [],
   "source": [
    "reg.score(x,y)"
   ]
  },
  {
   "cell_type": "code",
   "execution_count": null,
   "id": "b7aca166",
   "metadata": {},
   "outputs": [],
   "source": [
    "#plt.plot(x, df['Predicted_y'])\n",
    "plt.plot(x, reg.predict(x))\n",
    "plt.scatter(x.mean() , y.mean(), color='red')\n",
    "plt.scatter(df['Starting (USD)'] , df['Ending (USD)'])\n",
    "plt.scatter(df['Starting (USD)'] , reg.predict(x))\n",
    "plt.xlabel('Starting (USD)')\n",
    "plt.ylabel('Ending (USD)')\n",
    "plt.title('NASDAQ100 Stock Prices')"
   ]
  },
  {
   "cell_type": "code",
   "execution_count": null,
   "id": "1ca52ec8",
   "metadata": {},
   "outputs": [],
   "source": []
  }
 ],
 "metadata": {
  "kernelspec": {
   "display_name": "Python 3 (ipykernel)",
   "language": "python",
   "name": "python3"
  },
  "language_info": {
   "codemirror_mode": {
    "name": "ipython",
    "version": 3
   },
   "file_extension": ".py",
   "mimetype": "text/x-python",
   "name": "python",
   "nbconvert_exporter": "python",
   "pygments_lexer": "ipython3",
   "version": "3.9.13"
  }
 },
 "nbformat": 4,
 "nbformat_minor": 5
}
